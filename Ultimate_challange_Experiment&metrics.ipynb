{
 "cells": [
  {
   "cell_type": "code",
   "execution_count": 8,
   "id": "237175d9",
   "metadata": {},
   "outputs": [],
   "source": [
    "import warnings\n",
    "warnings.filterwarnings('ignore')\n",
    "import pandas as pd\n",
    "import numpy as np\n",
    "import glob \n",
    "import pandas as pd\n",
    "import numpy as np\n",
    "import os\n",
    "import scipy.stats as stats\n",
    "import matplotlib.pyplot as plt\n",
    "import seaborn as sns\n",
    "import json\n",
    "import math"
   ]
  },
  {
   "cell_type": "code",
   "execution_count": 11,
   "id": "8462fc76",
   "metadata": {},
   "outputs": [],
   "source": [
    "data=pd.read_json(r\"C:\\Users\\ptlon\\Downloads\\1631809090_1481053515_ultimate_challenge_3_\\ultimate_challenge\\ultimate_data_challenge.json\")"
   ]
  },
  {
   "cell_type": "code",
   "execution_count": 12,
   "id": "068466c5",
   "metadata": {},
   "outputs": [
    {
     "data": {
      "text/plain": [
       "array([\"King's Landing\", 'Astapor', 'Winterfell'], dtype=object)"
      ]
     },
     "execution_count": 12,
     "metadata": {},
     "output_type": "execute_result"
    }
   ],
   "source": [
    "data.city.unique()"
   ]
  },
  {
   "cell_type": "code",
   "execution_count": 13,
   "id": "48c6f017",
   "metadata": {},
   "outputs": [
    {
     "data": {
      "text/plain": [
       "Winterfell        46.672\n",
       "Astapor           33.068\n",
       "King's Landing    20.260\n",
       "Name: city, dtype: float64"
      ]
     },
     "execution_count": 13,
     "metadata": {},
     "output_type": "execute_result"
    }
   ],
   "source": [
    "data.city.value_counts(normalize=True)*100"
   ]
  },
  {
   "cell_type": "code",
   "execution_count": 14,
   "id": "e6a9abf4",
   "metadata": {},
   "outputs": [
    {
     "name": "stdout",
     "output_type": "stream",
     "text": [
      "Population average surge mean: 1.0747637999999744\n"
     ]
    }
   ],
   "source": [
    "pop_avg=data['avg_surge'].mean()\n",
    "print(\"Population average surge mean:\",pop_avg)"
   ]
  },
  {
   "cell_type": "code",
   "execution_count": 15,
   "id": "2a8b2559",
   "metadata": {},
   "outputs": [
    {
     "data": {
      "text/html": [
       "<div>\n",
       "<style scoped>\n",
       "    .dataframe tbody tr th:only-of-type {\n",
       "        vertical-align: middle;\n",
       "    }\n",
       "\n",
       "    .dataframe tbody tr th {\n",
       "        vertical-align: top;\n",
       "    }\n",
       "\n",
       "    .dataframe thead th {\n",
       "        text-align: right;\n",
       "    }\n",
       "</style>\n",
       "<table border=\"1\" class=\"dataframe\">\n",
       "  <thead>\n",
       "    <tr style=\"text-align: right;\">\n",
       "      <th></th>\n",
       "      <th>avg_surge</th>\n",
       "    </tr>\n",
       "    <tr>\n",
       "      <th>city</th>\n",
       "      <th></th>\n",
       "    </tr>\n",
       "  </thead>\n",
       "  <tbody>\n",
       "    <tr>\n",
       "      <th>Astapor</th>\n",
       "      <td>1.086522</td>\n",
       "    </tr>\n",
       "    <tr>\n",
       "      <th>King's Landing</th>\n",
       "      <td>1.070707</td>\n",
       "    </tr>\n",
       "    <tr>\n",
       "      <th>Winterfell</th>\n",
       "      <td>1.068194</td>\n",
       "    </tr>\n",
       "  </tbody>\n",
       "</table>\n",
       "</div>"
      ],
      "text/plain": [
       "                avg_surge\n",
       "city                     \n",
       "Astapor          1.086522\n",
       "King's Landing   1.070707\n",
       "Winterfell       1.068194"
      ]
     },
     "execution_count": 15,
     "metadata": {},
     "output_type": "execute_result"
    }
   ],
   "source": [
    "data.groupby(by=['city']).agg({'avg_surge' : np.mean})"
   ]
  },
  {
   "cell_type": "code",
   "execution_count": 16,
   "id": "5c913b6f",
   "metadata": {},
   "outputs": [],
   "source": [
    "astapor_avg_surge=data[data['city']==\"Astapor\"]['avg_surge']\n",
    "KingsLanding_avg_surge=data[data['city']==\"King's Landing\"]['avg_surge']\n",
    "Winterfell_avg_surge=data[data['city']==\"Winterfell\"]['avg_surge']"
   ]
  },
  {
   "cell_type": "code",
   "execution_count": 17,
   "id": "217be2f0",
   "metadata": {},
   "outputs": [
    {
     "data": {
      "text/plain": [
       "Ttest_1sampResult(statistic=6.305363703388396, pvalue=2.9481174886893844e-10)"
      ]
     },
     "execution_count": 17,
     "metadata": {},
     "output_type": "execute_result"
    }
   ],
   "source": [
    "stats.ttest_1samp(a=astapor_avg_surge,popmean=pop_avg)"
   ]
  },
  {
   "cell_type": "code",
   "execution_count": 18,
   "id": "245ecf0d",
   "metadata": {},
   "outputs": [
    {
     "data": {
      "text/plain": [
       "Ttest_1sampResult(statistic=-2.5252677343682315, pvalue=0.01157614845736863)"
      ]
     },
     "execution_count": 18,
     "metadata": {},
     "output_type": "execute_result"
    }
   ],
   "source": [
    "stats.ttest_1samp(a=KingsLanding_avg_surge,popmean=pop_avg)"
   ]
  },
  {
   "cell_type": "code",
   "execution_count": 19,
   "id": "f856e468",
   "metadata": {},
   "outputs": [
    {
     "data": {
      "text/plain": [
       "Ttest_1sampResult(statistic=-4.331288560841062, pvalue=1.4885764136262606e-05)"
      ]
     },
     "execution_count": 19,
     "metadata": {},
     "output_type": "execute_result"
    }
   ],
   "source": [
    "stats.ttest_1samp(a=Winterfell_avg_surge,popmean=pop_avg)"
   ]
  },
  {
   "cell_type": "markdown",
   "id": "a26a84a5",
   "metadata": {},
   "source": [
    "Null hypothesis: there is no significant difference in average surges across cities\n",
    "\n",
    "With p value below 0.05 we will reject the null hypothesis and accept that there is a significant difference in availability of drivers in specific cities.\n",
    "\n",
    "Conclusion: The experiment to encourage driver partners to be available in both cities,by reimbursing all toll charges has NOT been as effective."
   ]
  },
  {
   "cell_type": "code",
   "execution_count": null,
   "id": "faf93799",
   "metadata": {},
   "outputs": [],
   "source": []
  }
 ],
 "metadata": {
  "kernelspec": {
   "display_name": "Python 3 (ipykernel)",
   "language": "python",
   "name": "python3"
  },
  "language_info": {
   "codemirror_mode": {
    "name": "ipython",
    "version": 3
   },
   "file_extension": ".py",
   "mimetype": "text/x-python",
   "name": "python",
   "nbconvert_exporter": "python",
   "pygments_lexer": "ipython3",
   "version": "3.9.7"
  }
 },
 "nbformat": 4,
 "nbformat_minor": 5
}
